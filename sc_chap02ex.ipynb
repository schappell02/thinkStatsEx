{
 "cells": [
  {
   "cell_type": "code",
   "execution_count": null,
   "metadata": {},
   "outputs": [],
   "source": [
    "# Exercises 2.3 and 2.4 from Think Stats vs2 by Allen B. Downey                          \n",
    "# Data used is provided by various sources                                      \n",
    "# Example code provided by A. B. Downey (all available on github)               \n",
    "\n",
    "# This code written by S. Chappell as part of exercise and from                 \n",
    "# examples provided in Think Stats (Allen B. Downey).                           \n",
    "# Meant for self-educating purposes only.   \n",
    "\n"
   ]
  },
  {
   "cell_type": "code",
   "execution_count": 9,
   "metadata": {},
   "outputs": [],
   "source": [
    "def mode(hist):\n",
    "    freq, val = max([(freq, val) for val, freq in hist.Items()])\n",
    "    return val, freq"
   ]
  },
  {
   "cell_type": "code",
   "execution_count": 17,
   "metadata": {},
   "outputs": [],
   "source": [
    "from operator import itemgetter\n",
    "def AllModes(hist):\n",
    "    return sorted(hist.Items(),key=itemgetter(1),reverse=True)"
   ]
  },
  {
   "cell_type": "code",
   "execution_count": 10,
   "metadata": {},
   "outputs": [],
   "source": [
    "import nsfg\n",
    "import thinkstats2\n",
    "preg = nsfg.ReadFemPreg()\n",
    "live = preg[preg.outcome == 1]\n",
    "\n",
    "firsts = live[live.birthord == 1]\n",
    "others = live[live.birthord != 1]"
   ]
  },
  {
   "cell_type": "code",
   "execution_count": 11,
   "metadata": {},
   "outputs": [
    {
     "data": {
      "text/plain": [
       "(7.5, 145)"
      ]
     },
     "execution_count": 11,
     "metadata": {},
     "output_type": "execute_result"
    }
   ],
   "source": [
    "hist = thinkstats2.Hist(firsts.totalwgt_lb)\n",
    "mode(hist)"
   ]
  },
  {
   "cell_type": "code",
   "execution_count": 18,
   "metadata": {},
   "outputs": [
    {
     "data": {
      "text/plain": [
       "[(7.5, 145),\n",
       " (7.6875, 137),\n",
       " (7.375, 136),\n",
       " (7.0, 126),\n",
       " (7.125, 106),\n",
       " (6.5, 102),\n",
       " (8.0, 100),\n",
       " (7.75, 95),\n",
       " (6.4375, 90),\n",
       " (7.3125, 90),\n",
       " (7.875, 89),\n",
       " (7.1875, 89),\n",
       " (7.25, 85),\n",
       " (6.0, 82),\n",
       " (6.8125, 82),\n",
       " (6.5625, 78),\n",
       " (6.75, 78),\n",
       " (6.3125, 76),\n",
       " (7.625, 73),\n",
       " (6.6875, 72),\n",
       " (7.8125, 70),\n",
       " (7.4375, 69),\n",
       " (6.1875, 67),\n",
       " (6.625, 67),\n",
       " (7.5625, 66),\n",
       " (8.375, 65),\n",
       " (7.9375, 64),\n",
       " (6.875, 64),\n",
       " (7.0625, 64),\n",
       " (6.375, 59),\n",
       " (8.4375, 58),\n",
       " (8.5625, 56),\n",
       " (8.25, 56),\n",
       " (8.1875, 55),\n",
       " (6.9375, 55),\n",
       " (8.125, 55),\n",
       " (8.5, 55),\n",
       " (6.125, 53),\n",
       " (8.0625, 53),\n",
       " (6.25, 53),\n",
       " (8.3125, 49),\n",
       " (9.0, 46),\n",
       " (5.375, 46),\n",
       " (8.625, 46),\n",
       " (8.75, 44),\n",
       " (6.0625, 43),\n",
       " (8.8125, 36),\n",
       " (8.875, 33),\n",
       " (8.6875, 29),\n",
       " (5.125, 28),\n",
       " (5.8125, 27),\n",
       " (8.9375, 26),\n",
       " (5.75, 26),\n",
       " (5.9375, 26),\n",
       " (5.875, 26),\n",
       " (5.5, 26),\n",
       " (5.6875, 25),\n",
       " (9.5, 25),\n",
       " (5.5625, 21),\n",
       " (9.125, 21),\n",
       " (9.1875, 21),\n",
       " (5.625, 20),\n",
       " (9.625, 20),\n",
       " (9.5625, 19),\n",
       " (5.25, 19),\n",
       " (5.0, 18),\n",
       " (5.1875, 18),\n",
       " (9.375, 17),\n",
       " (9.0625, 16),\n",
       " (4.0, 14),\n",
       " (9.6875, 14),\n",
       " (9.75, 13),\n",
       " (5.4375, 13),\n",
       " (10.0, 12),\n",
       " (9.25, 12),\n",
       " (4.375, 12),\n",
       " (4.8125, 12),\n",
       " (4.6875, 11),\n",
       " (9.4375, 11),\n",
       " (4.75, 10),\n",
       " (4.1875, 10),\n",
       " (9.9375, 9),\n",
       " (5.3125, 9),\n",
       " (4.3125, 8),\n",
       " (9.3125, 8),\n",
       " (3.375, 8),\n",
       " (10.125, 8),\n",
       " (4.625, 8),\n",
       " (9.8125, 8),\n",
       " (3.0, 7),\n",
       " (4.4375, 7),\n",
       " (4.5, 7),\n",
       " (10.1875, 7),\n",
       " (5.0625, 7),\n",
       " (9.875, 6),\n",
       " (10.5, 6),\n",
       " (4.125, 6),\n",
       " (1.625, 5),\n",
       " (4.9375, 5),\n",
       " (3.4375, 5),\n",
       " (11.0, 4),\n",
       " (3.8125, 4),\n",
       " (3.125, 4),\n",
       " (3.9375, 4),\n",
       " (2.1875, 4),\n",
       " (3.25, 4),\n",
       " (2.0, 3),\n",
       " (2.125, 3),\n",
       " (1.5, 3),\n",
       " (12.0, 3),\n",
       " (3.5, 3),\n",
       " (10.8125, 3),\n",
       " (2.6875, 3),\n",
       " (10.25, 3),\n",
       " (10.625, 3),\n",
       " (1.75, 3),\n",
       " (4.5625, 3),\n",
       " (1.375, 3),\n",
       " (2.3125, 3),\n",
       " (10.6875, 3),\n",
       " (2.375, 2),\n",
       " (3.3125, 2),\n",
       " (2.4375, 2),\n",
       " (11.1875, 2),\n",
       " (2.9375, 2),\n",
       " (11.5625, 2),\n",
       " (3.625, 2),\n",
       " (10.375, 2),\n",
       " (4.0625, 2),\n",
       " (3.875, 2),\n",
       " (12.375, 2),\n",
       " (4.875, 2),\n",
       " (1.3125, 2),\n",
       " (3.0625, 2),\n",
       " (10.0625, 2),\n",
       " (10.3125, 2),\n",
       " (12.1875, 2),\n",
       " (14.0, 1),\n",
       " (1.0, 1),\n",
       " (2.75, 1),\n",
       " (1.1875, 1),\n",
       " (0.625, 1),\n",
       " (1.5625, 1),\n",
       " (1.0625, 1),\n",
       " (0.9375, 1),\n",
       " (0.3125, 1),\n",
       " (1.125, 1),\n",
       " (13.75, 1),\n",
       " (11.6875, 1),\n",
       " (3.75, 1),\n",
       " (1.6875, 1),\n",
       " (11.0625, 1),\n",
       " (10.75, 1),\n",
       " (1.25, 1),\n",
       " (2.0625, 1),\n",
       " (2.5, 1),\n",
       " (11.375, 1),\n",
       " (2.25, 1),\n",
       " (11.625, 1),\n",
       " (1.8125, 1),\n",
       " (10.875, 1),\n",
       " (1.875, 1),\n",
       " (12.5, 1),\n",
       " (2.875, 1),\n",
       " (11.75, 1),\n",
       " (0.125, 1),\n",
       " (10.5625, 1),\n",
       " (11.4375, 1),\n",
       " (15.4375, 1),\n",
       " (0.4375, 1)]"
      ]
     },
     "execution_count": 18,
     "metadata": {},
     "output_type": "execute_result"
    }
   ],
   "source": [
    "AllModes(hist)"
   ]
  },
  {
   "cell_type": "code",
   "execution_count": 19,
   "metadata": {},
   "outputs": [
    {
     "data": {
      "text/plain": [
       "(7.201094430437772, 7.3258556149732623)"
      ]
     },
     "execution_count": 19,
     "metadata": {},
     "output_type": "execute_result"
    }
   ],
   "source": [
    "firsts.totalwgt_lb.mean(),others.totalwgt_lb.mean()"
   ]
  },
  {
   "cell_type": "code",
   "execution_count": 20,
   "metadata": {},
   "outputs": [
    {
     "data": {
      "text/plain": [
       "(2.0180273009157861, 1.9437810258964716)"
      ]
     },
     "execution_count": 20,
     "metadata": {},
     "output_type": "execute_result"
    }
   ],
   "source": [
    "firsts.totalwgt_lb.var(),others.totalwgt_lb.var()"
   ]
  },
  {
   "cell_type": "code",
   "execution_count": 21,
   "metadata": {},
   "outputs": [
    {
     "data": {
      "text/plain": [
       "(1.4205728777207405, 1.3941954762143189)"
      ]
     },
     "execution_count": 21,
     "metadata": {},
     "output_type": "execute_result"
    }
   ],
   "source": [
    "firsts.totalwgt_lb.std(),others.totalwgt_lb.std()"
   ]
  },
  {
   "cell_type": "code",
   "execution_count": 25,
   "metadata": {},
   "outputs": [],
   "source": [
    "import numpy as np\n",
    "def CohenEffectSize(group1, group2):\n",
    "    \"\"\"Computes Cohen's effect size for two groups.\n",
    "    \n",
    "    group1: Series or DataFrame\n",
    "    group2: Series or DataFrame\n",
    "    \n",
    "    returns: float if the arguments are Series;\n",
    "             Series if the arguments are DataFrames\n",
    "    \"\"\"\n",
    "    diff = group1.mean() - group2.mean()\n",
    "\n",
    "    var1 = group1.var()\n",
    "    var2 = group2.var()\n",
    "    n1, n2 = len(group1), len(group2)\n",
    "\n",
    "    pooled_var = (n1 * var1 + n2 * var2) / (n1 + n2)\n",
    "    d = diff / np.sqrt(pooled_var)\n",
    "    return d"
   ]
  },
  {
   "cell_type": "code",
   "execution_count": 26,
   "metadata": {},
   "outputs": [
    {
     "data": {
      "text/plain": [
       "-0.088672927072601743"
      ]
     },
     "execution_count": 26,
     "metadata": {},
     "output_type": "execute_result"
    }
   ],
   "source": [
    "CohenEffectSize(firsts.totalwgt_lb,others.totalwgt_lb)"
   ]
  },
  {
   "cell_type": "code",
   "execution_count": 27,
   "metadata": {},
   "outputs": [],
   "source": [
    "# Cohen effect here is about 3 times larger than in regards to pregnancy length, this is still less than 0.01 of \n",
    "# the pooled std between these two groups, that is the variation within the respective groups is larger than the\n",
    "# difference between the two groups"
   ]
  },
  {
   "cell_type": "code",
   "execution_count": null,
   "metadata": {},
   "outputs": [],
   "source": []
  }
 ],
 "metadata": {
  "kernelspec": {
   "display_name": "Python 2",
   "language": "python",
   "name": "python2"
  },
  "language_info": {
   "codemirror_mode": {
    "name": "ipython",
    "version": 2
   },
   "file_extension": ".py",
   "mimetype": "text/x-python",
   "name": "python",
   "nbconvert_exporter": "python",
   "pygments_lexer": "ipython2",
   "version": "2.7.15"
  }
 },
 "nbformat": 4,
 "nbformat_minor": 2
}
